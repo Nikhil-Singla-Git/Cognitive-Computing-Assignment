{
  "nbformat": 4,
  "nbformat_minor": 0,
  "metadata": {
    "colab": {
      "provenance": []
    },
    "kernelspec": {
      "name": "python3",
      "display_name": "Python 3"
    },
    "language_info": {
      "name": "python"
    }
  },
  "cells": [
    {
      "cell_type": "code",
      "execution_count": 1,
      "metadata": {
        "colab": {
          "base_uri": "https://localhost:8080/"
        },
        "id": "XtBaVa2Opygc",
        "outputId": "bded8d5d-4285-4196-9854-072e30d5f8f7"
      },
      "outputs": [
        {
          "output_type": "stream",
          "name": "stdout",
          "text": [
            "[3 4 5 6 7]\n",
            "[ 3  6  9 12 15]\n",
            "[0.5 1.  1.5 2.  2.5]\n"
          ]
        }
      ],
      "source": [
        "#question 1\n",
        "import numpy as np\n",
        "a = np.array([1,2,3,4,5])\n",
        "print (a + 2)\n",
        "print(a*3)\n",
        "print(a/2)\n",
        ""
      ]
    },
    {
      "cell_type": "code",
      "source": [
        "#question 2\n",
        "import numpy as np\n",
        "from scipy import stats\n",
        "arr = np.array([1,2,3,4,5])\n",
        "reverse_array = np.sort(arr)[::-1]\n",
        "print(reverse_array)\n",
        "\n",
        "X = np.array([1,2,3,4,5,1,2,1,1,1])\n",
        "mode_result = stats.mode(X)\n",
        "mode_value = mode_result.mode[0] if isinstance(mode_result.mode, np.ndarray) else mode_result.mode\n",
        "print(mode_value)\n",
        "mode_indices = np.where(X == mode_value)[0]\n",
        "print(mode_indices)\n",
        "\n",
        "Y = np.array([1,1,1,2,3,4,2,4,3,3])\n",
        "mode_result1 = stats.mode(Y)\n",
        "mode_value1 = mode_result1.mode[0] if isinstance(mode_result1.mode, np.ndarray) else mode_result1.mode\n",
        "print(mode_value1)\n",
        "mode_indices1 = np.where(Y == mode_value1)[0]\n",
        "print(mode_indices1)"
      ],
      "metadata": {
        "colab": {
          "base_uri": "https://localhost:8080/"
        },
        "id": "ddXl6kyip8v1",
        "outputId": "1b31e884-4097-459e-be17-c9d59e37ec48"
      },
      "execution_count": 2,
      "outputs": [
        {
          "output_type": "stream",
          "name": "stdout",
          "text": [
            "[5 4 3 2 1]\n",
            "1\n",
            "[0 5 7 8 9]\n",
            "1\n",
            "[0 1 2]\n"
          ]
        }
      ]
    },
    {
      "cell_type": "code",
      "source": [
        "#question 3:\n",
        "arr = np.array([\n",
        "    [10,20,30],\n",
        "    [40,50,60],\n",
        "    [70,80,90]\n",
        "])\n",
        "print(arr[0,1])\n",
        "print(arr[2,0])"
      ],
      "metadata": {
        "colab": {
          "base_uri": "https://localhost:8080/"
        },
        "id": "qGbHqEj7qBmx",
        "outputId": "70b763b3-ffe4-4537-eb0e-2c8f4d267a74"
      },
      "execution_count": 3,
      "outputs": [
        {
          "output_type": "stream",
          "name": "stdout",
          "text": [
            "20\n",
            "70\n"
          ]
        }
      ]
    },
    {
      "cell_type": "code",
      "source": [
        "#question 4:\n",
        "import numpy as np\n",
        "Nikhil = np.linspace(10,100,25)\n",
        "print(\"dimensions: \", Nikhil.ndim)\n",
        "print(\"shape: \", Nikhil.shape)\n",
        "print(\"Total Elements: \", Nikhil.size)\n",
        "print(\"Data types: \", Nikhil.dtype)\n",
        "print(\"Total bytes consumed: \", Nikhil.nbytes)\n",
        "\n",
        "transpose = Nikhil.reshape(Nikhil.shape[0], 1)\n",
        "\n",
        "tranpose_without_shape = Nikhil.T\n",
        "\n",
        "print(\"transpose: \", transpose)\n",
        "print(\"transpose without shape: \", tranpose_without_shape)"
      ],
      "metadata": {
        "colab": {
          "base_uri": "https://localhost:8080/"
        },
        "id": "zvQIYN7TqDbi",
        "outputId": "ec806c73-3634-40f9-8b3c-c768d0102618"
      },
      "execution_count": 5,
      "outputs": [
        {
          "output_type": "stream",
          "name": "stdout",
          "text": [
            "dimensions:  1\n",
            "shape:  (25,)\n",
            "Total Elements:  25\n",
            "Data types:  float64\n",
            "Total bytes consumed:  200\n",
            "transpose:  [[ 10.  ]\n",
            " [ 13.75]\n",
            " [ 17.5 ]\n",
            " [ 21.25]\n",
            " [ 25.  ]\n",
            " [ 28.75]\n",
            " [ 32.5 ]\n",
            " [ 36.25]\n",
            " [ 40.  ]\n",
            " [ 43.75]\n",
            " [ 47.5 ]\n",
            " [ 51.25]\n",
            " [ 55.  ]\n",
            " [ 58.75]\n",
            " [ 62.5 ]\n",
            " [ 66.25]\n",
            " [ 70.  ]\n",
            " [ 73.75]\n",
            " [ 77.5 ]\n",
            " [ 81.25]\n",
            " [ 85.  ]\n",
            " [ 88.75]\n",
            " [ 92.5 ]\n",
            " [ 96.25]\n",
            " [100.  ]]\n",
            "transpose without shape:  [ 10.    13.75  17.5   21.25  25.    28.75  32.5   36.25  40.    43.75\n",
            "  47.5   51.25  55.    58.75  62.5   66.25  70.    73.75  77.5   81.25\n",
            "  85.    88.75  92.5   96.25 100.  ]\n"
          ]
        }
      ]
    },
    {
      "cell_type": "code",
      "source": [
        "#question : 5\n",
        "import numpy as np\n",
        "ucs420_Nikhil = np.array([\n",
        "    [10,20,30,40],\n",
        "    [50,60,70,80],\n",
        "    [90,15,20,35]\n",
        "])\n",
        "\n",
        "print(np.mean(ucs420_Nikhil))\n",
        "print(np.median(ucs420_Nikhil))\n",
        "print(np.max(ucs420_Nikhil))\n",
        "print(np.min(ucs420_Nikhil))\n",
        "print(np.unique(ucs420_Nikhil))\n",
        "\n",
        "reshaped_ucs420_Nikhil = ucs420_Nikhil.reshape(4,3)\n",
        "print(reshaped_ucs420_Nikhil)\n",
        "\n",
        "resized_ucs420_Nikhil = np.resize(ucs420_Nikhil, (2,3))\n",
        "print(resized_ucs420_Nikhil)"
      ],
      "metadata": {
        "colab": {
          "base_uri": "https://localhost:8080/"
        },
        "id": "IJKu6FFmqHrh",
        "outputId": "4d9b09d1-b8d1-4c83-e139-ba6f23a1056c"
      },
      "execution_count": 6,
      "outputs": [
        {
          "output_type": "stream",
          "name": "stdout",
          "text": [
            "43.333333333333336\n",
            "37.5\n",
            "90\n",
            "10\n",
            "[10 15 20 30 35 40 50 60 70 80 90]\n",
            "[[10 20 30]\n",
            " [40 50 60]\n",
            " [70 80 90]\n",
            " [15 20 35]]\n",
            "[[10 20 30]\n",
            " [40 50 60]]\n"
          ]
        }
      ]
    },
    {
      "cell_type": "code",
      "source": [],
      "metadata": {
        "id": "Gj2erbkRq44e"
      },
      "execution_count": null,
      "outputs": []
    }
  ]
}