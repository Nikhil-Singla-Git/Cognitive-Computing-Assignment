{
  "nbformat": 4,
  "nbformat_minor": 0,
  "metadata": {
    "colab": {
      "provenance": []
    },
    "kernelspec": {
      "name": "python3",
      "display_name": "Python 3"
    },
    "language_info": {
      "name": "python"
    }
  },
  "cells": [
    {
      "cell_type": "code",
      "execution_count": 1,
      "metadata": {
        "colab": {
          "base_uri": "https://localhost:8080/"
        },
        "id": "yCddD6oJJm8l",
        "outputId": "259912d6-bf58-444c-8337-c34444efede8"
      },
      "outputs": [
        {
          "output_type": "stream",
          "name": "stdout",
          "text": [
            "original array  [1 2 3 4 5]\n",
            "adding 2  [3 4 5 6 7]\n",
            "multiplying by 3  [ 3  6  9 12 15]\n",
            "dividing by 2  [0.5 1.  1.5 2.  2.5]\n"
          ]
        }
      ],
      "source": [
        "#Q1\n",
        "\n",
        "import numpy as np\n",
        "\n",
        "arr = np.array([1, 2, 3, 4, 5])\n",
        "print(\"original array \", arr)\n",
        "print(\"adding 2 \", arr + 2)\n",
        "print(\"multiplying by 3 \", arr * 3)\n",
        "print(\"dividing by 2 \", arr / 2)\n"
      ]
    },
    {
      "cell_type": "code",
      "source": [
        "#Q2a\n",
        "\n",
        "import numpy as np\n",
        "arr2 = np.array([1, 2, 3, 6, 4, 5])\n",
        "print(\"reversed array\", arr2[::-1])"
      ],
      "metadata": {
        "colab": {
          "base_uri": "https://localhost:8080/"
        },
        "id": "E5UUdIpvKS1-",
        "outputId": "d76fd2dc-6044-4cf1-af7e-09e2ae00bf57"
      },
      "execution_count": 2,
      "outputs": [
        {
          "output_type": "stream",
          "name": "stdout",
          "text": [
            "reversed array [5 4 6 3 2 1]\n"
          ]
        }
      ]
    },
    {
      "cell_type": "code",
      "source": [
        "# Q2b\n",
        "\n",
        "x = np.array([1,2,3,4,5,1,2,1,1,1])\n",
        "y = np.array([1,1,1,2,3,4,2,4,3,3])\n",
        "print(np.bincount(x).argmax(), np.bincount(y).argmax())\n",
        ""
      ],
      "metadata": {
        "colab": {
          "base_uri": "https://localhost:8080/"
        },
        "id": "xJ29V-OlKUcf",
        "outputId": "fb9e06ce-46ff-44b0-a6f1-3bf49656ad36"
      },
      "execution_count": 3,
      "outputs": [
        {
          "output_type": "stream",
          "name": "stdout",
          "text": [
            "1 1\n"
          ]
        }
      ]
    },
    {
      "cell_type": "code",
      "source": [
        "#Q3\n",
        "\n",
        "import numpy as np\n",
        "arr3 = np.array([[10, 20, 30], [40, 50, 60], [70, 80, 90]])\n",
        "print(arr3[0, 1], arr3[2, 0])"
      ],
      "metadata": {
        "colab": {
          "base_uri": "https://localhost:8080/"
        },
        "id": "lwC9EZzgKWZw",
        "outputId": "92206496-5241-46db-d1ed-47958e4d1ac9"
      },
      "execution_count": 4,
      "outputs": [
        {
          "output_type": "stream",
          "name": "stdout",
          "text": [
            "20 70\n"
          ]
        }
      ]
    },
    {
      "cell_type": "code",
      "source": [
        "#Q4\n",
        "\n",
        "import numpy as np\n",
        "Ansh_array = np.linspace(10, 100, 25)\n",
        "print(Ansh_array.shape)\n",
        "print(Ansh_array.size)\n",
        "print(Ansh_array.dtype)\n",
        "print(Ansh_array.nbytes)\n",
        "print(Ansh_array.reshape(25, 1).T)\n",
        ""
      ],
      "metadata": {
        "colab": {
          "base_uri": "https://localhost:8080/"
        },
        "id": "US4XOp4-KYpx",
        "outputId": "75d876fb-3d8e-42c8-cfcd-f2178396b120"
      },
      "execution_count": 5,
      "outputs": [
        {
          "output_type": "stream",
          "name": "stdout",
          "text": [
            "(25,)\n",
            "25\n",
            "float64\n",
            "200\n",
            "[[ 10.    13.75  17.5   21.25  25.    28.75  32.5   36.25  40.    43.75\n",
            "   47.5   51.25  55.    58.75  62.5   66.25  70.    73.75  77.5   81.25\n",
            "   85.    88.75  92.5   96.25 100.  ]]\n"
          ]
        }
      ]
    },
    {
      "cell_type": "code",
      "source": [
        "#Q5\n",
        "\n",
        "import numpy as np\n",
        "arr5 = np.array([[10, 20, 30, 40], [50, 60, 70, 80], [90, 15, 20, 35]])\n",
        "print(np.mean(arr5))\n",
        "print(np.median(arr5))\n",
        "print(np.max(arr5))\n",
        "print(np.min(arr5))\n",
        "print(np.unique(arr5))\n",
        "reshaped_arr5 = arr5.reshape(4, 3)\n",
        "resized_arr5 = np.resize(arr5, (2, 3))\n",
        "print(reshaped_arr5, resized_arr5)\n"
      ],
      "metadata": {
        "colab": {
          "base_uri": "https://localhost:8080/"
        },
        "id": "y-DzAYOQKaXp",
        "outputId": "876058e4-e58c-484f-b6dd-0e8278bc54c4"
      },
      "execution_count": 6,
      "outputs": [
        {
          "output_type": "stream",
          "name": "stdout",
          "text": [
            "43.333333333333336\n",
            "37.5\n",
            "90\n",
            "10\n",
            "[10 15 20 30 35 40 50 60 70 80 90]\n",
            "[[10 20 30]\n",
            " [40 50 60]\n",
            " [70 80 90]\n",
            " [15 20 35]] [[10 20 30]\n",
            " [40 50 60]]\n"
          ]
        }
      ]
    },
    {
      "cell_type": "code",
      "source": [],
      "metadata": {
        "id": "gc10pHklKc3n"
      },
      "execution_count": null,
      "outputs": []
    }
  ]
}